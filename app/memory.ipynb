{
 "cells": [
  {
   "cell_type": "code",
   "execution_count": 1,
   "metadata": {
    "pycharm": {
     "name": "#%%\n"
    }
   },
   "outputs": [],
   "source": [
    "import platform"
   ]
  },
  {
   "cell_type": "code",
   "execution_count": 2,
   "metadata": {},
   "outputs": [],
   "source": [
    "# General Info:"
   ]
  },
  {
   "cell_type": "code",
   "execution_count": 3,
   "metadata": {
    "pycharm": {
     "name": "#%%\n"
    }
   },
   "outputs": [
    {
     "name": "stdout",
     "output_type": "stream",
     "text": [
      "Architecture: 64bit\n",
      "Machine: x86_64\n",
      "Node: UnicafDEV\n",
      "System: Linux\n"
     ]
    },
    {
     "ename": "AttributeError",
     "evalue": "module 'platform' has no attribute 'dist'",
     "output_type": "error",
     "traceback": [
      "\u001B[0;31m---------------------------------------------------------------------------\u001B[0m",
      "\u001B[0;31mAttributeError\u001B[0m                            Traceback (most recent call last)",
      "\u001B[0;32m<ipython-input-3-f6ad0b4cbfc9>\u001B[0m in \u001B[0;36m<module>\u001B[0;34m\u001B[0m\n\u001B[1;32m     12\u001B[0m \u001B[0;34m\u001B[0m\u001B[0m\n\u001B[1;32m     13\u001B[0m \u001B[0;31m# distribution\u001B[0m\u001B[0;34m\u001B[0m\u001B[0;34m\u001B[0m\u001B[0;34m\u001B[0m\u001B[0m\n\u001B[0;32m---> 14\u001B[0;31m \u001B[0mdist\u001B[0m \u001B[0;34m=\u001B[0m \u001B[0mplatform\u001B[0m\u001B[0;34m.\u001B[0m\u001B[0mdist\u001B[0m\u001B[0;34m(\u001B[0m\u001B[0;34m)\u001B[0m\u001B[0;34m\u001B[0m\u001B[0;34m\u001B[0m\u001B[0m\n\u001B[0m\u001B[1;32m     15\u001B[0m \u001B[0mdist\u001B[0m \u001B[0;34m=\u001B[0m \u001B[0;34m\" \"\u001B[0m\u001B[0;34m.\u001B[0m\u001B[0mjoin\u001B[0m\u001B[0;34m(\u001B[0m\u001B[0mx\u001B[0m \u001B[0;32mfor\u001B[0m \u001B[0mx\u001B[0m \u001B[0;32min\u001B[0m \u001B[0mdist\u001B[0m\u001B[0;34m)\u001B[0m\u001B[0;34m\u001B[0m\u001B[0;34m\u001B[0m\u001B[0m\n\u001B[1;32m     16\u001B[0m \u001B[0mprint\u001B[0m\u001B[0;34m(\u001B[0m\u001B[0;34m\"Distribution: \"\u001B[0m \u001B[0;34m+\u001B[0m \u001B[0mdist\u001B[0m\u001B[0;34m)\u001B[0m\u001B[0;34m\u001B[0m\u001B[0;34m\u001B[0m\u001B[0m\n",
      "\u001B[0;31mAttributeError\u001B[0m: module 'platform' has no attribute 'dist'"
     ]
    }
   ],
   "source": [
    "# Architecture\n",
    "print(\"Architecture: \" + platform.architecture()[0])\n",
    "\n",
    "# machine\n",
    "print(\"Machine: \" + platform.machine())\n",
    "\n",
    "# node\n",
    "print(\"Node: \" + platform.node())\n",
    "\n",
    "# system\n",
    "print(\"System: \" + platform.system())\n",
    "\n",
    "# distribution\n",
    "dist = platform.dist()\n",
    "dist = \" \".join(x for x in dist)\n",
    "print(\"Distribution: \" + dist)\n"
   ]
  },
  {
   "cell_type": "code",
   "execution_count": 4,
   "metadata": {
    "pycharm": {
     "name": "#%%\n"
    }
   },
   "outputs": [],
   "source": [
    "# Processor Info:"
   ]
  },
  {
   "cell_type": "code",
   "execution_count": 5,
   "metadata": {
    "pycharm": {
     "name": "#%%\n"
    }
   },
   "outputs": [
    {
     "name": "stdout",
     "output_type": "stream",
     "text": [
      "Processors: \n",
      "    0:  Intel(R) Core(TM) i5-9500 CPU @ 3.00GHz\n",
      "    1:  Intel(R) Core(TM) i5-9500 CPU @ 3.00GHz\n",
      "    2:  Intel(R) Core(TM) i5-9500 CPU @ 3.00GHz\n",
      "    3:  Intel(R) Core(TM) i5-9500 CPU @ 3.00GHz\n",
      "    4:  Intel(R) Core(TM) i5-9500 CPU @ 3.00GHz\n",
      "    5:  Intel(R) Core(TM) i5-9500 CPU @ 3.00GHz\n"
     ]
    }
   ],
   "source": [
    "# processor\n",
    "print(\"Processors: \")\n",
    "with open(\"/proc/cpuinfo\", \"r\")  as f:\n",
    "    info = f.readlines()\n",
    "\n",
    "cpuinfo = [x.strip().split(\":\")[1] for x in info if \"model name\"  in x]\n",
    "for index, item in enumerate(cpuinfo):\n",
    "    print(\"    \" + str(index) + \": \" + item)"
   ]
  },
  {
   "cell_type": "code",
   "execution_count": null,
   "metadata": {},
   "outputs": [],
   "source": []
  },
  {
   "cell_type": "code",
   "execution_count": 6,
   "metadata": {},
   "outputs": [
    {
     "name": "stdout",
     "output_type": "stream",
     "text": [
      "Memory Info: \n",
      "     MemTotal:       20278324 kB\n",
      "     MemFree:         1059916 kB\n"
     ]
    }
   ],
   "source": [
    "# Memory\n",
    "print(\"Memory Info: \")\n",
    "with open(\"/proc/meminfo\", \"r\") as f:\n",
    "    lines = f.readlines()\n",
    "\n",
    "print(\"     \" + lines[0].strip())\n",
    "print(\"     \" + lines[1].strip())"
   ]
  },
  {
   "cell_type": "code",
   "execution_count": 7,
   "metadata": {},
   "outputs": [
    {
     "name": "stdout",
     "output_type": "stream",
     "text": [
      "Uptime: 6:25 hours\n"
     ]
    }
   ],
   "source": [
    "# uptime\n",
    "uptime = None\n",
    "with open(\"/proc/uptime\", \"r\") as f:\n",
    "    uptime = f.read().split(\" \")[0].strip()\n",
    "uptime = int(float(uptime))\n",
    "uptime_hours = uptime // 3600\n",
    "uptime_minutes = (uptime % 3600) // 60\n",
    "print(\"Uptime: \" + str(uptime_hours) + \":\" + str(uptime_minutes) + \" hours\")"
   ]
  },
  {
   "cell_type": "code",
   "execution_count": 8,
   "metadata": {},
   "outputs": [
    {
     "name": "stdout",
     "output_type": "stream",
     "text": [
      "Average Load: 2.78 2.34 1.84 4/1933 128085\n"
     ]
    }
   ],
   "source": [
    "# Load\n",
    "with open(\"/proc/loadavg\", \"r\") as f:\n",
    "    print(\"Average Load: \" + f.read().strip())"
   ]
  },
  {
   "cell_type": "code",
   "execution_count": 12,
   "metadata": {},
   "outputs": [
    {
     "name": "stdout",
     "output_type": "stream",
     "text": [
      "Memory Info: \n",
      "['MemTotal:', '20278324', 'kB']\n",
      "['MemFree:', '1125148', 'kB']\n",
      "['MemAvailable:', '10482752', 'kB']\n",
      "['Buffers:', '708228', 'kB']\n",
      "['Cached:', '8556820', 'kB']\n",
      "['SwapCached:', '3060', 'kB']\n",
      "['Active:', '12776600', 'kB']\n",
      "['Inactive:', '4837092', 'kB']\n",
      "['Active(anon):', '7215200', 'kB']\n",
      "['Inactive(anon):', '1601340', 'kB']\n",
      "['Active(file):', '5561400', 'kB']\n",
      "['Inactive(file):', '3235752', 'kB']\n",
      "['Unevictable:', '78764', 'kB']\n",
      "['Mlocked:', '220', 'kB']\n",
      "['SwapTotal:', '2097148', 'kB']\n",
      "['SwapFree:', '1991420', 'kB']\n",
      "['Dirty:', '1996', 'kB']\n",
      "['Writeback:', '0', 'kB']\n",
      "['AnonPages:', '8415624', 'kB']\n",
      "['Mapped:', '1333980', 'kB']\n",
      "['Shmem:', '481980', 'kB']\n",
      "['KReclaimable:', '927548', 'kB']\n",
      "['Slab:', '1215916', 'kB']\n",
      "['SReclaimable:', '927548', 'kB']\n",
      "['SUnreclaim:', '288368', 'kB']\n",
      "['KernelStack:', '30608', 'kB']\n",
      "['PageTables:', '67136', 'kB']\n",
      "['NFS_Unstable:', '0', 'kB']\n",
      "['Bounce:', '0', 'kB']\n",
      "['WritebackTmp:', '0', 'kB']\n",
      "['CommitLimit:', '12236308', 'kB']\n",
      "['Committed_AS:', '25669560', 'kB']\n",
      "['VmallocTotal:', '34359738367', 'kB']\n",
      "['VmallocUsed:', '46856', 'kB']\n",
      "['VmallocChunk:', '0', 'kB']\n",
      "['Percpu:', '13984', 'kB']\n",
      "['HardwareCorrupted:', '0', 'kB']\n",
      "['AnonHugePages:', '2048', 'kB']\n",
      "['ShmemHugePages:', '0', 'kB']\n",
      "['ShmemPmdMapped:', '0', 'kB']\n",
      "['FileHugePages:', '0', 'kB']\n",
      "['FilePmdMapped:', '0', 'kB']\n",
      "['CmaTotal:', '0', 'kB']\n",
      "['CmaFree:', '0', 'kB']\n",
      "['HugePages_Total:', '0']\n",
      "['HugePages_Free:', '0']\n",
      "['HugePages_Rsvd:', '0']\n",
      "['HugePages_Surp:', '0']\n",
      "['Hugepagesize:', '2048', 'kB']\n",
      "['Hugetlb:', '0', 'kB']\n",
      "['DirectMap4k:', '719104', 'kB']\n",
      "['DirectMap2M:', '17932288', 'kB']\n",
      "['DirectMap1G:', '2097152', 'kB']\n"
     ]
    }
   ],
   "source": [
    "# Memory\n",
    "print(\"Memory Info: \")\n",
    "memory_details={}\n",
    "with open(\"/proc/meminfo\", \"r\") as f:\n",
    "    lines = f.readlines()\n",
    "    for row in lines:\n",
    "        row = row.strip()\n",
    "        orow.split())"
   ]
  },
  {
   "cell_type": "code",
   "execution_count": null,
   "outputs": [],
   "source": [],
   "metadata": {
    "collapsed": false,
    "pycharm": {
     "name": "#%%\n"
    }
   }
  },
  {
   "cell_type": "code",
   "execution_count": null,
   "metadata": {},
   "outputs": [],
   "source": []
  },
  {
   "cell_type": "code",
   "execution_count": null,
   "metadata": {},
   "outputs": [],
   "source": []
  }
 ],
 "metadata": {
  "kernelspec": {
   "display_name": "Python 3",
   "language": "python",
   "name": "python3"
  },
  "language_info": {
   "codemirror_mode": {
    "name": "ipython",
    "version": 3
   },
   "file_extension": ".py",
   "mimetype": "text/x-python",
   "name": "python",
   "nbconvert_exporter": "python",
   "pygments_lexer": "ipython3",
   "version": "3.8.2"
  }
 },
 "nbformat": 4,
 "nbformat_minor": 1
}