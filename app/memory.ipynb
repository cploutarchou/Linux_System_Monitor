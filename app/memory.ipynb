{
 "cells": [
  {
   "cell_type": "code",
   "execution_count": 5,
   "metadata": {
    "pycharm": {
     "name": "#%%\n"
    }
   },
   "outputs": [],
   "source": [
    "import platform"
   ]
  },
  {
   "cell_type": "code",
   "execution_count": 7,
   "metadata": {},
   "outputs": [],
   "source": [
    "# General Info:"
   ]
  },
  {
   "cell_type": "code",
   "execution_count": 8,
   "metadata": {
    "pycharm": {
     "name": "#%%\n"
    }
   },
   "outputs": [
    {
     "name": "stdout",
     "output_type": "stream",
     "text": [
      "Architecture: 64bit\n",
      "Machine: x86_64\n",
      "Node: unicafDEV\n",
      "System: Linux\n",
      "Distribution: Zorin 15 bionic\n"
     ]
    }
   ],
   "source": [
    "# Architecture\n",
    "print(\"Architecture: \" + platform.architecture()[0])\n",
    "\n",
    "# machine\n",
    "print(\"Machine: \" + platform.machine())\n",
    "\n",
    "# node\n",
    "print(\"Node: \" + platform.node())\n",
    "\n",
    "# system\n",
    "print(\"System: \" + platform.system())\n",
    "\n",
    "# distribution\n",
    "dist = platform.dist()\n",
    "dist = \" \".join(x for x in dist)\n",
    "print(\"Distribution: \" + dist)\n"
   ]
  },
  {
   "cell_type": "code",
   "execution_count": 9,
   "metadata": {
    "pycharm": {
     "name": "#%%\n"
    }
   },
   "outputs": [],
   "source": [
    "# Processor Info:"
   ]
  },
  {
   "cell_type": "code",
   "execution_count": 15,
   "metadata": {
    "pycharm": {
     "name": "#%%\n"
    }
   },
   "outputs": [
    {
     "name": "stdout",
     "output_type": "stream",
     "text": [
      "Processors: \n",
      "    0:  Intel(R) Core(TM) i7-8700K CPU @ 3.70GHz\n",
      "    1:  Intel(R) Core(TM) i7-8700K CPU @ 3.70GHz\n",
      "    2:  Intel(R) Core(TM) i7-8700K CPU @ 3.70GHz\n",
      "    3:  Intel(R) Core(TM) i7-8700K CPU @ 3.70GHz\n",
      "    4:  Intel(R) Core(TM) i7-8700K CPU @ 3.70GHz\n",
      "    5:  Intel(R) Core(TM) i7-8700K CPU @ 3.70GHz\n",
      "    6:  Intel(R) Core(TM) i7-8700K CPU @ 3.70GHz\n",
      "    7:  Intel(R) Core(TM) i7-8700K CPU @ 3.70GHz\n",
      "    8:  Intel(R) Core(TM) i7-8700K CPU @ 3.70GHz\n",
      "    9:  Intel(R) Core(TM) i7-8700K CPU @ 3.70GHz\n",
      "    10:  Intel(R) Core(TM) i7-8700K CPU @ 3.70GHz\n",
      "    11:  Intel(R) Core(TM) i7-8700K CPU @ 3.70GHz\n"
     ]
    }
   ],
   "source": [
    "# processor\n",
    "print(\"Processors: \")\n",
    "with open(\"/proc/cpuinfo\", \"r\")  as f:\n",
    "    info = f.readlines()\n",
    "\n",
    "cpuinfo = [x.strip().split(\":\")[1] for x in info if \"model name\"  in x]\n",
    "for index, item in enumerate(cpuinfo):\n",
    "    print(\"    \" + str(index) + \": \" + item)"
   ]
  },
  {
   "cell_type": "code",
   "execution_count": null,
   "metadata": {},
   "outputs": [],
   "source": []
  },
  {
   "cell_type": "code",
   "execution_count": 16,
   "metadata": {},
   "outputs": [
    {
     "name": "stdout",
     "output_type": "stream",
     "text": [
      "Memory Info: \n",
      "     MemTotal:       49289396 kB\n",
      "     MemFree:        37592936 kB\n"
     ]
    }
   ],
   "source": [
    "# Memory\n",
    "print(\"Memory Info: \")\n",
    "with open(\"/proc/meminfo\", \"r\") as f:\n",
    "    lines = f.readlines()\n",
    "\n",
    "print(\"     \" + lines[0].strip())\n",
    "print(\"     \" + lines[1].strip())"
   ]
  },
  {
   "cell_type": "code",
   "execution_count": 17,
   "metadata": {},
   "outputs": [
    {
     "name": "stdout",
     "output_type": "stream",
     "text": [
      "Uptime: 1:8 hours\n"
     ]
    }
   ],
   "source": [
    "# uptime\n",
    "uptime = None\n",
    "with open(\"/proc/uptime\", \"r\") as f:\n",
    "    uptime = f.read().split(\" \")[0].strip()\n",
    "uptime = int(float(uptime))\n",
    "uptime_hours = uptime // 3600\n",
    "uptime_minutes = (uptime % 3600) // 60\n",
    "print(\"Uptime: \" + str(uptime_hours) + \":\" + str(uptime_minutes) + \" hours\")"
   ]
  },
  {
   "cell_type": "code",
   "execution_count": 18,
   "metadata": {},
   "outputs": [
    {
     "name": "stdout",
     "output_type": "stream",
     "text": [
      "Average Load: 0.53 1.29 1.77 7/1640 24523\n"
     ]
    }
   ],
   "source": [
    "# Load\n",
    "with open(\"/proc/loadavg\", \"r\") as f:\n",
    "    print(\"Average Load: \" + f.read().strip())"
   ]
  },
  {
   "cell_type": "code",
   "execution_count": 25,
   "metadata": {},
   "outputs": [
    {
     "name": "stdout",
     "output_type": "stream",
     "text": [
      "Memory Info: \n",
      "MemTotal:       49289396 kB\n",
      "\n",
      "MemFree:        37457224 kB\n",
      "\n",
      "MemAvailable:   43289268 kB\n",
      "\n",
      "Buffers:          300080 kB\n",
      "\n",
      "Cached:          6149312 kB\n",
      "\n",
      "SwapCached:            0 kB\n",
      "\n",
      "Active:          7198104 kB\n",
      "\n",
      "Inactive:        3854940 kB\n",
      "\n",
      "Active(anon):    4606620 kB\n",
      "\n",
      "Inactive(anon):   337232 kB\n",
      "\n",
      "Active(file):    2591484 kB\n",
      "\n",
      "Inactive(file):  3517708 kB\n",
      "\n",
      "Unevictable:         144 kB\n",
      "\n",
      "Mlocked:             144 kB\n",
      "\n",
      "SwapTotal:        999420 kB\n",
      "\n",
      "SwapFree:         999420 kB\n",
      "\n",
      "Dirty:               376 kB\n",
      "\n",
      "Writeback:             0 kB\n",
      "\n",
      "AnonPages:       4603864 kB\n",
      "\n",
      "Mapped:          1044168 kB\n",
      "\n",
      "Shmem:            340204 kB\n",
      "\n",
      "KReclaimable:     318416 kB\n",
      "\n",
      "Slab:             412704 kB\n",
      "\n",
      "SReclaimable:     318416 kB\n",
      "\n",
      "SUnreclaim:        94288 kB\n",
      "\n",
      "KernelStack:       26464 kB\n",
      "\n",
      "PageTables:        93396 kB\n",
      "\n",
      "NFS_Unstable:          0 kB\n",
      "\n",
      "Bounce:                0 kB\n",
      "\n",
      "WritebackTmp:          0 kB\n",
      "\n",
      "CommitLimit:    25644116 kB\n",
      "\n",
      "Committed_AS:   15785924 kB\n",
      "\n",
      "VmallocTotal:   34359738367 kB\n",
      "\n",
      "VmallocUsed:       48444 kB\n",
      "\n",
      "VmallocChunk:          0 kB\n",
      "\n",
      "Percpu:             5568 kB\n",
      "\n",
      "HardwareCorrupted:     0 kB\n",
      "\n",
      "AnonHugePages:         0 kB\n",
      "\n",
      "ShmemHugePages:        0 kB\n",
      "\n",
      "ShmemPmdMapped:        0 kB\n",
      "\n",
      "CmaTotal:              0 kB\n",
      "\n",
      "CmaFree:               0 kB\n",
      "\n",
      "HugePages_Total:       0\n",
      "\n",
      "HugePages_Free:        0\n",
      "\n",
      "HugePages_Rsvd:        0\n",
      "\n",
      "HugePages_Surp:        0\n",
      "\n",
      "Hugepagesize:       2048 kB\n",
      "\n",
      "Hugetlb:               0 kB\n",
      "\n",
      "DirectMap4k:      524616 kB\n",
      "\n",
      "DirectMap2M:    11995136 kB\n",
      "\n",
      "DirectMap1G:    37748736 kB\n",
      "\n"
     ]
    }
   ],
   "source": [
    "# Memory\n",
    "print(\"Memory Info: \")\n",
    "with open(\"/proc/meminfo\", \"r\") as f:\n",
    "    lines = f.readlines()\n",
    "    for row in lines:\n",
    "        print(row)"
   ]
  },
  {
   "cell_type": "code",
   "execution_count": null,
   "metadata": {},
   "outputs": [],
   "source": []
  }
 ],
 "metadata": {
  "kernelspec": {
   "display_name": "Python 3",
   "language": "python",
   "name": "python3"
  },
  "language_info": {
   "codemirror_mode": {
    "name": "ipython",
    "version": 3
   },
   "file_extension": ".py",
   "mimetype": "text/x-python",
   "name": "python",
   "nbconvert_exporter": "python",
   "pygments_lexer": "ipython3",
   "version": "3.6.9"
  }
 },
 "nbformat": 4,
 "nbformat_minor": 1
}