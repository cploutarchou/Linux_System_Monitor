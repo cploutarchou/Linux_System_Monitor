{
 "cells": [
  {
   "cell_type": "code",
   "execution_count": 1,
   "metadata": {
    "pycharm": {
     "name": "#%%\n"
    }
   },
   "outputs": [],
   "source": [
    "import platform"
   ]
  },
  {
   "cell_type": "code",
   "execution_count": 2,
   "metadata": {},
   "outputs": [],
   "source": [
    "# General Info:"
   ]
  },
  {
   "cell_type": "code",
   "execution_count": 3,
   "metadata": {
    "pycharm": {
     "name": "#%%\n"
    }
   },
   "outputs": [
    {
     "name": "stdout",
     "output_type": "stream",
     "text": [
      "Architecture: 64bit\n",
      "Machine: x86_64\n",
      "Node: unicafDev\n",
      "System: Linux\n"
     ]
    },
    {
     "ename": "AttributeError",
     "evalue": "module 'platform' has no attribute 'dist'",
     "output_type": "error",
     "traceback": [
      "\u001B[0;31m---------------------------------------------------------------------------\u001B[0m",
      "\u001B[0;31mAttributeError\u001B[0m                            Traceback (most recent call last)",
      "\u001B[0;32m<ipython-input-3-f6ad0b4cbfc9>\u001B[0m in \u001B[0;36m<module>\u001B[0;34m\u001B[0m\n\u001B[1;32m     12\u001B[0m \u001B[0;34m\u001B[0m\u001B[0m\n\u001B[1;32m     13\u001B[0m \u001B[0;31m# distribution\u001B[0m\u001B[0;34m\u001B[0m\u001B[0;34m\u001B[0m\u001B[0;34m\u001B[0m\u001B[0m\n\u001B[0;32m---> 14\u001B[0;31m \u001B[0mdist\u001B[0m \u001B[0;34m=\u001B[0m \u001B[0mplatform\u001B[0m\u001B[0;34m.\u001B[0m\u001B[0mdist\u001B[0m\u001B[0;34m(\u001B[0m\u001B[0;34m)\u001B[0m\u001B[0;34m\u001B[0m\u001B[0;34m\u001B[0m\u001B[0m\n\u001B[0m\u001B[1;32m     15\u001B[0m \u001B[0mdist\u001B[0m \u001B[0;34m=\u001B[0m \u001B[0;34m\" \"\u001B[0m\u001B[0;34m.\u001B[0m\u001B[0mjoin\u001B[0m\u001B[0;34m(\u001B[0m\u001B[0mx\u001B[0m \u001B[0;32mfor\u001B[0m \u001B[0mx\u001B[0m \u001B[0;32min\u001B[0m \u001B[0mdist\u001B[0m\u001B[0;34m)\u001B[0m\u001B[0;34m\u001B[0m\u001B[0;34m\u001B[0m\u001B[0m\n\u001B[1;32m     16\u001B[0m \u001B[0mprint\u001B[0m\u001B[0;34m(\u001B[0m\u001B[0;34m\"Distribution: \"\u001B[0m \u001B[0;34m+\u001B[0m \u001B[0mdist\u001B[0m\u001B[0;34m)\u001B[0m\u001B[0;34m\u001B[0m\u001B[0;34m\u001B[0m\u001B[0m\n",
      "\u001B[0;31mAttributeError\u001B[0m: module 'platform' has no attribute 'dist'"
     ]
    }
   ],
   "source": [
    "# Architecture\n",
    "print(\"Architecture: \" + platform.architecture()[0])\n",
    "\n",
    "# machine\n",
    "print(\"Machine: \" + platform.machine())\n",
    "\n",
    "# node\n",
    "print(\"Node: \" + platform.node())\n",
    "\n",
    "# system\n",
    "print(\"System: \" + platform.system())\n",
    "\n",
    "# distribution\n",
    "dist = platform.dist()\n",
    "dist = \" \".join(x for x in dist)\n",
    "print(\"Distribution: \" + dist)\n"
   ]
  },
  {
   "cell_type": "code",
   "execution_count": 4,
   "metadata": {
    "pycharm": {
     "name": "#%%\n"
    }
   },
   "outputs": [],
   "source": [
    "# Processor Info:"
   ]
  },
  {
   "cell_type": "code",
   "execution_count": 5,
   "metadata": {
    "pycharm": {
     "name": "#%%\n"
    }
   },
   "outputs": [
    {
     "name": "stdout",
     "output_type": "stream",
     "text": [
      "Processors: \n",
      "    0:  Intel(R) Core(TM) i7-8700K CPU @ 3.70GHz\n",
      "    1:  Intel(R) Core(TM) i7-8700K CPU @ 3.70GHz\n",
      "    2:  Intel(R) Core(TM) i7-8700K CPU @ 3.70GHz\n",
      "    3:  Intel(R) Core(TM) i7-8700K CPU @ 3.70GHz\n",
      "    4:  Intel(R) Core(TM) i7-8700K CPU @ 3.70GHz\n",
      "    5:  Intel(R) Core(TM) i7-8700K CPU @ 3.70GHz\n",
      "    6:  Intel(R) Core(TM) i7-8700K CPU @ 3.70GHz\n",
      "    7:  Intel(R) Core(TM) i7-8700K CPU @ 3.70GHz\n",
      "    8:  Intel(R) Core(TM) i7-8700K CPU @ 3.70GHz\n",
      "    9:  Intel(R) Core(TM) i7-8700K CPU @ 3.70GHz\n",
      "    10:  Intel(R) Core(TM) i7-8700K CPU @ 3.70GHz\n",
      "    11:  Intel(R) Core(TM) i7-8700K CPU @ 3.70GHz\n"
     ]
    }
   ],
   "source": [
    "# processor\n",
    "print(\"Processors: \")\n",
    "with open(\"/proc/cpuinfo\", \"r\")  as f:\n",
    "    info = f.readlines()\n",
    "\n",
    "cpuinfo = [x.strip().split(\":\")[1] for x in info if \"model name\"  in x]\n",
    "for index, item in enumerate(cpuinfo):\n",
    "    print(\"    \" + str(index) + \": \" + item)"
   ]
  },
  {
   "cell_type": "code",
   "execution_count": null,
   "metadata": {},
   "outputs": [],
   "source": []
  },
  {
   "cell_type": "code",
   "execution_count": 6,
   "metadata": {},
   "outputs": [
    {
     "name": "stdout",
     "output_type": "stream",
     "text": [
      "Memory Info: \n",
      "     MemTotal:       49289208 kB\n",
      "     MemFree:        40705296 kB\n"
     ]
    }
   ],
   "source": [
    "# Memory\n",
    "print(\"Memory Info: \")\n",
    "with open(\"/proc/meminfo\", \"r\") as f:\n",
    "    lines = f.readlines()\n",
    "\n",
    "print(\"     \" + lines[0].strip())\n",
    "print(\"     \" + lines[1].strip())"
   ]
  },
  {
   "cell_type": "code",
   "execution_count": 7,
   "metadata": {},
   "outputs": [
    {
     "name": "stdout",
     "output_type": "stream",
     "text": [
      "Uptime: 0:25 hours\n"
     ]
    }
   ],
   "source": [
    "# uptime\n",
    "uptime = None\n",
    "with open(\"/proc/uptime\", \"r\") as f:\n",
    "    uptime = f.read().split(\" \")[0].strip()\n",
    "uptime = int(float(uptime))\n",
    "uptime_hours = uptime // 3600\n",
    "uptime_minutes = (uptime % 3600) // 60\n",
    "print(\"Uptime: \" + str(uptime_hours) + \":\" + str(uptime_minutes) + \" hours\")"
   ]
  },
  {
   "cell_type": "code",
   "execution_count": 8,
   "metadata": {},
   "outputs": [
    {
     "name": "stdout",
     "output_type": "stream",
     "text": [
      "Average Load: 2.21 1.12 0.87 5/1446 10870\n"
     ]
    }
   ],
   "source": [
    "# Load\n",
    "with open(\"/proc/loadavg\", \"r\") as f:\n",
    "    print(\"Average Load: \" + f.read().strip())"
   ]
  },
  {
   "cell_type": "code",
   "execution_count": 48,
   "metadata": {},
   "outputs": [],
   "source": [
    "def get_memory_details():\n",
    "    memory_details = {}\n",
    "    with open(\"/proc/meminfo\", \"r\") as file:\n",
    "        lines = file.readlines()\n",
    "        for row in lines:\n",
    "            row = row.strip()\n",
    "            row = row.split()\n",
    "            row = {row[0].replace(':',''): row[1]}\n",
    "            memory_details.update(row)\n",
    "    return memory_details"
   ]
  },
  {
   "cell_type": "code",
   "execution_count": 49,
   "metadata": {
    "pycharm": {
     "name": "#%%\n"
    }
   },
   "outputs": [],
   "source": [
    "res = get_memory_details()"
   ]
  },
  {
   "cell_type": "code",
   "execution_count": 50,
   "metadata": {},
   "outputs": [
    {
     "data": {
      "text/plain": [
       "{'MemTotal': '49289208',\n",
       " 'MemFree': '39787712',\n",
       " 'MemAvailable': '43159264',\n",
       " 'Buffers': '134408',\n",
       " 'Cached': '3967008',\n",
       " 'SwapCached': '0',\n",
       " 'Active': '6130244',\n",
       " 'Inactive': '2645120',\n",
       " 'Active(anon)': '4683632',\n",
       " 'Inactive(anon)': '347932',\n",
       " 'Active(file)': '1446612',\n",
       " 'Inactive(file)': '2297188',\n",
       " 'Unevictable': '80',\n",
       " 'Mlocked': '80',\n",
       " 'SwapTotal': '2097148',\n",
       " 'SwapFree': '2097148',\n",
       " 'Dirty': '364',\n",
       " 'Writeback': '0',\n",
       " 'AnonPages': '4674148',\n",
       " 'Mapped': '1042492',\n",
       " 'Shmem': '367448',\n",
       " 'KReclaimable': '213140',\n",
       " 'Slab': '424632',\n",
       " 'SReclaimable': '213140',\n",
       " 'SUnreclaim': '211492',\n",
       " 'KernelStack': '22832',\n",
       " 'PageTables': '45868',\n",
       " 'NFS_Unstable': '0',\n",
       " 'Bounce': '0',\n",
       " 'WritebackTmp': '0',\n",
       " 'CommitLimit': '26741752',\n",
       " 'Committed_AS': '14185740',\n",
       " 'VmallocTotal': '34359738367',\n",
       " 'VmallocUsed': '46176',\n",
       " 'VmallocChunk': '0',\n",
       " 'Percpu': '13696',\n",
       " 'HardwareCorrupted': '0',\n",
       " 'AnonHugePages': '0',\n",
       " 'ShmemHugePages': '0',\n",
       " 'ShmemPmdMapped': '0',\n",
       " 'FileHugePages': '0',\n",
       " 'FilePmdMapped': '0',\n",
       " 'CmaTotal': '0',\n",
       " 'CmaFree': '0',\n",
       " 'HugePages_Total': '0',\n",
       " 'HugePages_Free': '0',\n",
       " 'HugePages_Rsvd': '0',\n",
       " 'HugePages_Surp': '0',\n",
       " 'Hugepagesize': '2048',\n",
       " 'Hugetlb': '0',\n",
       " 'DirectMap4k': '561480',\n",
       " 'DirectMap2M': '11958272',\n",
       " 'DirectMap1G': '37748736'}"
      ]
     },
     "execution_count": 50,
     "metadata": {},
     "output_type": "execute_result"
    }
   ],
   "source": [
    "res"
   ]
  },
  {
   "cell_type": "code",
   "execution_count": 75,
   "metadata": {},
   "outputs": [],
   "source": [
    "def humanbytes(_bytes):\n",
    "    \"\"\"Return the given bytes as a human friendly KB, MB, GB, or TB string\"\"\"\n",
    "    _bytes = float(_bytes)*1024\n",
    "    kb = float(1024)\n",
    "    mb = float(kb ** 2)  # 1,048,576\n",
    "    gb = float(kb ** 3)  # 1,073,741,824\n",
    "    tb = float(kb ** 4)  # 1,099,511,627,776\n",
    "\n",
    "    if _bytes < kb:\n",
    "        return '{0} {1}'.format(_bytes, 'Bytes' if 0 == _bytes > 1 else 'Byte')\n",
    "    elif kb <= _bytes < mb:\n",
    "        return '{0:.2f} KB'.format(_bytes / kb)\n",
    "    elif mb <= _bytes < gb:\n",
    "        return '{0:.2f} MB'.format(_bytes / mb)\n",
    "    elif gb <= _bytes < tb:\n",
    "        return '{0:.2f} GB'.format(_bytes / gb)\n",
    "    elif tb <= _bytes:\n",
    "        return '{0:.2f} TB'.format(_bytes / tb)"
   ]
  },
  {
   "cell_type": "code",
   "execution_count": 76,
   "metadata": {},
   "outputs": [],
   "source": [
    "_res = humanbytes(res['MemTotal'])"
   ]
  },
  {
   "cell_type": "code",
   "execution_count": 77,
   "metadata": {},
   "outputs": [
    {
     "data": {
      "text/plain": [
       "'47.01 GB'"
      ]
     },
     "execution_count": 77,
     "metadata": {},
     "output_type": "execute_result"
    }
   ],
   "source": [
    "_res"
   ]
  },
  {
   "cell_type": "code",
   "execution_count": null,
   "metadata": {},
   "outputs": [],
   "source": []
  },
  {
   "cell_type": "code",
   "execution_count": null,
   "metadata": {},
   "outputs": [],
   "source": []
  }
 ],
 "metadata": {
  "kernelspec": {
   "display_name": "Python 3",
   "language": "python",
   "name": "python3"
  },
  "language_info": {
   "codemirror_mode": {
    "name": "ipython",
    "version": 3
   },
   "file_extension": ".py",
   "mimetype": "text/x-python",
   "name": "python",
   "nbconvert_exporter": "python",
   "pygments_lexer": "ipython3",
   "version": "3.8.2"
  }
 },
 "nbformat": 4,
 "nbformat_minor": 1
}